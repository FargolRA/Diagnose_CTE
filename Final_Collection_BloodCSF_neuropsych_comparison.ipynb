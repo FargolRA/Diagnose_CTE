{
 "cells": [
  {
   "cell_type": "code",
   "execution_count": 1,
   "id": "15c9f805",
   "metadata": {},
   "outputs": [
    {
     "name": "stdout",
     "output_type": "stream",
     "text": [
      "Metric Name  Max Value         Corresponding Name\n",
      "bloodbiomk1   0.310183 Gradient Boosting Machines\n",
      "bloodbiomk2   0.060678   Random Forest Regression\n",
      "  csfbiomk1   0.150565   Random Forest Regression\n",
      "  csfbiomk2   0.102489 Gradient Boosting Machines\n",
      "  csfbiomk3   0.141500                    XGBoost\n"
     ]
    }
   ],
   "source": [
    "import pandas as pd\n",
    "import os\n",
    "\n",
    "# Define the list of metric names\n",
    "metric_names = ['bloodbiomk1', 'bloodbiomk2', 'csfbiomk1', 'csfbiomk2','csfbiomk3']  \n",
    "\n",
    "# Define the feature to look for\n",
    "feature = 'pcltot'\n",
    "\n",
    "# feature = 'abis_attention'  # Example value\n",
    "# pcltot  # nbd_tot  # cnstot  # bistot  # bhstot  # BGLHA_Childhood_Total  # BGLHA_Adulthood_Total  # BGLHA_Adolescence_Total\n",
    "# bditot  # bdhi_total  # baitot   # abis_nonplanning  # abis_motor  # abis_attention\n",
    "\n",
    "\n",
    "# Initialize a list to store results\n",
    "results = []\n",
    "\n",
    "# Loop through each metric name\n",
    "for metricName in metric_names:\n",
    "    # Construct the file path using the metric name\n",
    "    file_path = f\"Z:\\\\Active-Diagnose_CTE\\\\Fargol_Analysis\\\\Neuropsychiatric_from_Biomarkers\\\\neuropsych_from_{metricName}.xlsx\"\n",
    "\n",
    "    # Check if the file exists\n",
    "    if not os.path.exists(file_path):\n",
    "        print(f\"File not found at {file_path}\")\n",
    "        continue\n",
    "\n",
    "    max_value = None\n",
    "    max_name = None\n",
    "\n",
    "    # Load the Excel file with all sheets\n",
    "    with pd.ExcelFile(file_path) as xls:\n",
    "        for sheet_name in xls.sheet_names:\n",
    "            # Load the specific sheet\n",
    "            df = pd.read_excel(xls, sheet_name=sheet_name)\n",
    "\n",
    "            # Check if the sheet has enough columns and rows\n",
    "            if df.shape[1] >= 5:\n",
    "                # Filter rows where the second column matches the feature\n",
    "                filtered_rows = df[df.iloc[:, 1] == feature]\n",
    "\n",
    "                if not filtered_rows.empty:\n",
    "                    # Find the max value in the fifth column among filtered rows\n",
    "                    row_max_value = filtered_rows.iloc[:, 4].max()\n",
    "\n",
    "                    # Extract the max value and corresponding name in the first column\n",
    "                    max_row = filtered_rows[filtered_rows.iloc[:, 4] == row_max_value]\n",
    "                    row_name = max_row.iloc[0, 0]\n",
    "\n",
    "                    # Update the overall max if this is the highest found\n",
    "                    if max_value is None or row_max_value > max_value:\n",
    "                        max_value = row_max_value\n",
    "                        max_name = row_name\n",
    "\n",
    "    # Append the result for the current metric name\n",
    "    results.append({\n",
    "        \"Metric Name\": metricName,\n",
    "        \"Max Value\": max_value,\n",
    "        \"Corresponding Name\": max_name\n",
    "    })\n",
    "\n",
    "# Convert results to a DataFrame and display\n",
    "results_df = pd.DataFrame(results)\n",
    "print(results_df.to_string(index=False))  # Display in a table format suitable for copying and pasting"
   ]
  },
  {
   "cell_type": "markdown",
   "id": "72c8336f",
   "metadata": {},
   "source": [
    "# Feature Importance Results"
   ]
  },
  {
   "cell_type": "code",
   "execution_count": 2,
   "id": "92ffe2d0",
   "metadata": {},
   "outputs": [
    {
     "name": "stdout",
     "output_type": "stream",
     "text": [
      "Metric 'bloodbiomk1': The highest max value found in column 6 (from row 3 onward) is 0.1309130364715684 in sheet: Random Forest\n",
      "Metric 'bloodbiomk2': The highest max value found in column 6 (from row 3 onward) is 0.1890441482463563 in sheet: XGBoost\n",
      "Metric 'csfbiomk1': The highest max value found in column 6 (from row 3 onward) is 0.1776370695509103 in sheet: Random Forest\n",
      "Metric 'csfbiomk2': The highest max value found in column 6 (from row 3 onward) is 0.06012105009762247 in sheet: KNeighbors Regressor\n",
      "Metric 'csfbiomk3': The highest max value found in column 6 (from row 3 onward) is 0.1747980534339347 in sheet: Gradient Boosting Machines\n"
     ]
    }
   ],
   "source": [
    "import pandas as pd\n",
    "import os\n",
    "\n",
    "# feature = 'abis_attention'  # Example value\n",
    "# pcltot  # nbd_tot  # cnstot  # bistot  # bhstot  # BGLHA_Childhood_Total  # BGLHA_Adulthood_Total  # BGLHA_Adolescence_Total\n",
    "# bditot  # bdhi_total  # baitot   # abis_nonplanning  # abis_motor  # abis_attention\n",
    "\n",
    "# # Construct the file path using the variables\n",
    "# file_path = f\"Z:\\\\Active-Diagnose_CTE\\\\Fargol_Analysis\\\\Feature_importance_for_neuropsych_from_{metric}\\\\performance_{metricName}_w_top_features_{feature}.xlsx\"\n",
    "\n",
    "\n",
    "def find_max_in_excel(file_path, metric, metricName):\n",
    "    if not os.path.exists(file_path):\n",
    "        print(f\"File not found at {file_path}\")\n",
    "        return\n",
    "    \n",
    "    max_value = None\n",
    "    max_sheet = None\n",
    "\n",
    "    # Load the Excel file with all sheets\n",
    "    with pd.ExcelFile(file_path) as xls:\n",
    "        for sheet_name in xls.sheet_names:\n",
    "            try:\n",
    "                # Load the specific sheet\n",
    "                df = pd.read_excel(xls, sheet_name=sheet_name)\n",
    "\n",
    "                # Check if the sheet has enough columns and rows\n",
    "                if df.shape[1] >= 6 and df.shape[0] >= 3:\n",
    "                    # Get the sixth column starting from row 3 (adjust index)\n",
    "                    col_values = df.iloc[2:, 5]  # Zero-indexed: sixth column is 5\n",
    "\n",
    "                    # Find the max value in this column\n",
    "                    sheet_max = col_values.max()\n",
    "\n",
    "                    # Update max_value and max_sheet if this sheet has a new max\n",
    "                    if max_value is None or sheet_max > max_value:\n",
    "                        max_value = sheet_max\n",
    "                        max_sheet = sheet_name\n",
    "            except Exception as e:\n",
    "                print(f\"Error processing sheet '{sheet_name}': {e}\")\n",
    "\n",
    "    if max_sheet:\n",
    "        print(f\"Metric '{metricName}': The highest max value found in column 6 (from row 3 onward) is {max_value} in sheet: {max_sheet}\")\n",
    "    else:\n",
    "        print(f\"Metric '{metricName}': No valid data found in the specified column and row range.\")\n",
    "\n",
    "# Define metrics and file paths\n",
    "metrics = [\n",
    "    {'metric': 'biomk1', 'metricName': 'bloodbiomk1'},\n",
    "    {'metric': 'biomk2', 'metricName': 'bloodbiomk2'},\n",
    "    {'metric': 'csfbiomk1', 'metricName': 'csfbiomk1'},\n",
    "    {'metric': 'csfbiomk2', 'metricName': 'csfbiomk2'},\n",
    "    {'metric': 'csfbiomk3', 'metricName': 'csfbiomk3'}\n",
    "]\n",
    "\n",
    "# Iterate over each metric and find the max value\n",
    "for metric_data in metrics:\n",
    "    metric = metric_data['metric']\n",
    "    metricName = metric_data['metricName']\n",
    "    file_path = f\"Z:\\\\Active-Diagnose_CTE\\\\Fargol_Analysis\\\\Feature_Importance_for_neuropsych_from_{metric}\\\\performance_{metricName}_w_top_features_{feature}.xlsx\"\n",
    "    find_max_in_excel(file_path, metric, metricName)\n"
   ]
  },
  {
   "cell_type": "code",
   "execution_count": 3,
   "id": "ecb683f0",
   "metadata": {},
   "outputs": [
    {
     "data": {
      "text/plain": [
       "'pcltot'"
      ]
     },
     "execution_count": 3,
     "metadata": {},
     "output_type": "execute_result"
    }
   ],
   "source": [
    "feature"
   ]
  },
  {
   "cell_type": "code",
   "execution_count": 20,
   "id": "68322163",
   "metadata": {},
   "outputs": [
    {
     "name": "stdout",
     "output_type": "stream",
     "text": [
      "The highest max value found in column 6 (from row 3 onward) is 0.2699776592054767 in sheet: XGBoost\n"
     ]
    }
   ],
   "source": [
    "import pandas as pd\n",
    "import os\n",
    "\n",
    "# Set the variables for biomk1 and feature\n",
    "metric = 'BloodCSF_biomk'  # Example value\n",
    "metricName = 'BloodCSF_biomk'\n",
    "\n",
    "feature = 'pcltot'  \n",
    "\n",
    "# pcltot  # nbd_tot  # cnstot  # bistot  # bhstot  # BGLHA_Childhood_Total  # BGLHA_Adulthood_Total  # BGLHA_Adolescence_Total\n",
    "# bditot  # bdhi_total  # baitot   # abis_nonplanning  # abis_motor  # abis_attention\n",
    "\n",
    "# Construct the file path using the variables\n",
    "file_path = f\"Z:\\\\Active-Diagnose_CTE\\\\Fargol_Analysis\\\\Feature_importance_for_neuropsych_from_{metric}\\\\performance_{metricName}_w_top_features_{feature}.xlsx\"\n",
    "\n",
    "\n",
    "if not os.path.exists(file_path):\n",
    "    print(f\"File not found at {file_path}\")\n",
    "else:\n",
    "    max_value = None\n",
    "    max_sheet = None\n",
    "\n",
    "    # Load the Excel file with all sheets\n",
    "    with pd.ExcelFile(file_path) as xls:\n",
    "        for sheet_name in xls.sheet_names:\n",
    "            # Load the specific sheet\n",
    "            df = pd.read_excel(xls, sheet_name=sheet_name)\n",
    "\n",
    "            # Check if the sheet has enough columns and rows\n",
    "            if df.shape[1] >= 6 and df.shape[0] >= 3:\n",
    "                # Get the sixth column starting from row 3 (adjust index)\n",
    "                col_values = df.iloc[2:, 5]  # Zero-indexed: sixth column is 5\n",
    "\n",
    "                # Find the max value in this column\n",
    "                sheet_max = col_values.max()\n",
    "\n",
    "                # Update max_value and max_sheet if this sheet has a new max\n",
    "                if max_value is None or sheet_max > max_value:\n",
    "                    max_value = sheet_max\n",
    "                    max_sheet = sheet_name\n",
    "\n",
    "    if max_sheet:\n",
    "        print(f\"The highest max value found in column 6 (from row 3 onward) is {max_value} in sheet: {max_sheet}\")\n",
    "    else:\n",
    "        print(\"No valid data found in the specified column and row range.\")\n"
   ]
  },
  {
   "cell_type": "code",
   "execution_count": 21,
   "id": "80978af0",
   "metadata": {},
   "outputs": [
    {
     "name": "stdout",
     "output_type": "stream",
     "text": [
      "The maximum value found in column 5 for feature 'workmem' is 0.2006906066833458, corresponding to the name 'Random Forest Regression' in column 1.\n"
     ]
    }
   ],
   "source": [
    "import pandas as pd\n",
    "import os\n",
    "\n",
    "feature = 'pcltot'  \n",
    "\n",
    "# pcltot  # nbd_tot  # cnstot  # bistot  # bhstot  # BGLHA_Childhood_Total  # BGLHA_Adulthood_Total  # BGLHA_Adolescence_Total\n",
    "# bditot  # bdhi_total  # baitot   # abis_nonplanning  # abis_motor  # abis_attention\n",
    "\n",
    "# Construct the file path using the variables\n",
    "file_path = f\"Z:\\\\Active-Diagnose_CTE\\\\Fargol_Analysis\\\\Final_results\\\\neuropsych_from_all_biomarkers_afterFE_trial1_{feature}.xlsx\"\n",
    "\n",
    "# Check if the file exists\n",
    "if not os.path.exists(file_path):\n",
    "    print(f\"File not found at {file_path}\")\n",
    "else:\n",
    "    max_value = None\n",
    "    max_name = None\n",
    "\n",
    "    # Load the Excel file with all sheets\n",
    "    with pd.ExcelFile(file_path) as xls:\n",
    "        for sheet_name in xls.sheet_names:\n",
    "            # Load the specific sheet\n",
    "            df = pd.read_excel(xls, sheet_name=sheet_name)\n",
    "\n",
    "            # Check if the sheet has enough columns and rows\n",
    "            if df.shape[1] >= 5:\n",
    "                # Filter rows where the second column matches the feature\n",
    "                filtered_rows = df[df.iloc[:, 1] == feature]\n",
    "\n",
    "                if not filtered_rows.empty:\n",
    "                    # Find the max value in the fifth column among filtered rows\n",
    "                    row_max_value = filtered_rows.iloc[:, 4].max()\n",
    "\n",
    "                    # Extract the max value and corresponding name in the first column\n",
    "                    max_row = filtered_rows[filtered_rows.iloc[:, 4] == row_max_value]\n",
    "                    row_name = max_row.iloc[0, 0]\n",
    "\n",
    "                    # Update the overall max if this is the highest found\n",
    "                    if max_value is None or row_max_value > max_value:\n",
    "                        max_value = row_max_value\n",
    "                        max_name = row_name\n",
    "\n",
    "    # Print the result\n",
    "    if max_name:\n",
    "        print(f\"The maximum value found in column 5 for feature '{feature}' is {max_value}, corresponding to the name '{max_name}' in column 1.\")\n",
    "    else:\n",
    "        print(f\"No entries found for feature '{feature}' in the specified column.\")"
   ]
  },
  {
   "cell_type": "code",
   "execution_count": 6,
   "id": "bcb32334",
   "metadata": {},
   "outputs": [],
   "source": [
    "# filtered_rows\n",
    "# # max_row"
   ]
  },
  {
   "cell_type": "code",
   "execution_count": null,
   "id": "92d7fdc0",
   "metadata": {},
   "outputs": [],
   "source": []
  }
 ],
 "metadata": {
  "kernelspec": {
   "display_name": "Python 3 (ipykernel)",
   "language": "python",
   "name": "python3"
  },
  "language_info": {
   "codemirror_mode": {
    "name": "ipython",
    "version": 3
   },
   "file_extension": ".py",
   "mimetype": "text/x-python",
   "name": "python",
   "nbconvert_exporter": "python",
   "pygments_lexer": "ipython3",
   "version": "3.10.9"
  }
 },
 "nbformat": 4,
 "nbformat_minor": 5
}
