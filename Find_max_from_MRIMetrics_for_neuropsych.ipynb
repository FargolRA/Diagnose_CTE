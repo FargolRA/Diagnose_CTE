{
 "cells": [
  {
   "cell_type": "markdown",
   "id": "790f0b68",
   "metadata": {},
   "source": [
    "# To get max of each method for each metrics from Biomarkers (Observations Excel for the briefa from biomarkers and pther excl files for this)"
   ]
  },
  {
   "cell_type": "code",
   "execution_count": 1,
   "id": "d61796d9",
   "metadata": {},
   "outputs": [],
   "source": [
    "#**** I DO HAVE ANOTHER CODE FOR THIS****\n",
    "\n",
    "# import pandas as pd\n",
    "# import os\n",
    "\n",
    "# # Set the variables for biomk1 and feature\n",
    "# metric = 'orgmat'  # Example value\n",
    "# target_header = 'r2'\n",
    "\n",
    "# # pcltot  # nbd_tot  # cnstot  # bistot  # bhstot  # BGLHA_Childhood_Total  # BGLHA_Adulthood_Total  # BGLHA_Adolescence_Total\n",
    "# # bditot  # bdhi_total  # baitot   # abis_nonplanning  # abis_motor  # abis_attention\n",
    "\n",
    "# # Construct the file path using the variables\n",
    "# file_path = f\"Z:\\\\Active-Diagnose_CTE\\\\Fargol_Analysis\\\\observations.xlsx\"\n",
    "# excel_data = pd.ExcelFile(file_path)\n",
    "\n",
    "# # Initialize variables to track the overall maximum value and its sheet\n",
    "# max_value = float('-inf')\n",
    "# max_sheet = None\n",
    "\n",
    "# # Initialize a dictionary to store the max value for each sheet\n",
    "# sheet_max_values = {}\n",
    "\n",
    "# # Iterate over all sheets in the Excel file\n",
    "# for sheet_name in excel_data.sheet_names:\n",
    "# #     print(f\"Exploring sheet: {sheet_name}\")  # Debugging: Display current sheet name\n",
    "#     try:\n",
    "#         # Read the sheet and skip the first row\n",
    "#         df = excel_data.parse(sheet_name, skiprows=1)\n",
    "        \n",
    "#         # Ensure the metric exists in the first column\n",
    "#         if metric not in df.iloc[:, 0].values:\n",
    "#             print(f\"Metric '{metric}' not found in sheet: {sheet_name}\")\n",
    "#             continue\n",
    "\n",
    "#         # Locate the row corresponding to the metric\n",
    "#         matching_row = df[df.iloc[:, 0] == metric]\n",
    "        \n",
    "#         if not matching_row.empty:\n",
    "#             # Identify all columns with the header containing the target_header\n",
    "#             r2_columns = [col for col in df.columns if target_header in str(col)]\n",
    "\n",
    "#             if not r2_columns:\n",
    "#                 print(f\"No '{target_header}' columns found in sheet: {sheet_name}\")\n",
    "#                 continue\n",
    "\n",
    "#             # Extract the values for the matching row in the identified columns\n",
    "#             values = matching_row[r2_columns].values.flatten()\n",
    "            \n",
    "#             # Remove NaN values from the array\n",
    "#             values = values[~pd.isnull(values)]\n",
    "            \n",
    "#             # Debugging: Print the extracted values\n",
    "# #             print(f\"Values for '{metric}' in sheet '{sheet_name}': {values}\")\n",
    "            \n",
    "#             if len(values) == 0:\n",
    "#                 print(f\"No valid 'r2' values found for '{metric}' in sheet '{sheet_name}'\")\n",
    "#                 continue\n",
    "\n",
    "#             # Find the maximum value in these columns for the current sheet\n",
    "#             sheet_max = values.max()\n",
    "#             sheet_max_values[sheet_name] = sheet_max  # Store the max for the current sheet\n",
    "\n",
    "#             # Update the overall max value and sheet name if the current sheet's max is higher\n",
    "#             if sheet_max > max_value:\n",
    "#                 max_value = sheet_max\n",
    "#                 max_sheet = sheet_name\n",
    "\n",
    "#     except Exception as e:\n",
    "#         print(f\"Error processing sheet '{sheet_name}': {e}\")\n",
    "\n",
    "# # Print the overall result\n",
    "# if max_sheet:\n",
    "#     print(f\"The overall maximum value is {max_value} and is found in sheet: {max_sheet}\")\n",
    "# else:\n",
    "#     print(f\"The metric '{metric}' or the target header '{target_header}' was not found in any sheet.\")\n",
    "\n",
    "# # Print the maximum value for each sheet\n",
    "# print(\"\\nMaximum values per sheet:\")\n",
    "# for sheet, max_val in sheet_max_values.items():\n",
    "#     print(f\"Sheet '{sheet}': Max value = {max_val}\")\n"
   ]
  },
  {
   "cell_type": "code",
   "execution_count": 2,
   "id": "ea26b6c5",
   "metadata": {},
   "outputs": [],
   "source": [
    "# target_columns"
   ]
  },
  {
   "cell_type": "code",
   "execution_count": 3,
   "id": "e73f162f",
   "metadata": {},
   "outputs": [],
   "source": [
    "metric = 'baitot'  \n",
    "\n",
    "# # pcltot  # nbd_tot  # cnstot  # bistot  # bhstot  # BGLHA_Childhood_Total  # BGLHA_Adulthood_Total  # BGLHA_Adolescence_Total\n",
    "# # bditot  # bdhi_total  # baitot   # abis_nonplanning  # abis_motor  # abis_attention"
   ]
  },
  {
   "cell_type": "code",
   "execution_count": 4,
   "id": "609a79c6",
   "metadata": {},
   "outputs": [
    {
     "name": "stdout",
     "output_type": "stream",
     "text": [
      "                          Sheet  R^2 Score  Top Feature\n",
      "6    Gradient Boosting Machines   0.158407            9\n",
      "3    Multiple Linear Regression   0.154974           23\n",
      "21           Stacking Regressor   0.154560            8\n",
      "7    Gradient Boosting Machines   0.147235            8\n",
      "4    Multiple Linear Regression   0.146841           22\n",
      "36               Bayesian Ridge   0.146091            3\n",
      "22           Stacking Regressor   0.143074            9\n",
      "5    Multiple Linear Regression   0.142632            9\n",
      "23           Stacking Regressor   0.133055           11\n",
      "18         KNeighbors Regressor   0.131535           32\n",
      "30             Lasso Regression   0.119034            8\n",
      "19         KNeighbors Regressor   0.105242           37\n",
      "20         KNeighbors Regressor   0.099969           36\n",
      "37               Bayesian Ridge   0.094546            4\n",
      "15                          ANN   0.091042            2\n",
      "31             Lasso Regression   0.090139            7\n",
      "38               Bayesian Ridge   0.077178            2\n",
      "32             Lasso Regression   0.076779            9\n",
      "8    Gradient Boosting Machines   0.076194           10\n",
      "16                          ANN   0.064123            1\n",
      "17                          ANN   0.055275            4\n",
      "33             Ridge Regression   0.051673            6\n",
      "34             Ridge Regression   0.043928           13\n",
      "35             Ridge Regression   0.040629            7\n",
      "9                       XGBoost   0.024774           10\n",
      "0                 Random Forest   0.003263            6\n",
      "1                 Random Forest  -0.015441          290\n",
      "2                 Random Forest  -0.018738          327\n",
      "10                      XGBoost  -0.024491           12\n",
      "11                      XGBoost  -0.037107           11\n",
      "27            Bagging with SVR1  -0.062577           10\n",
      "24             Bagging with SVR  -0.062577           10\n",
      "28            Bagging with SVR1  -0.063096           11\n",
      "25             Bagging with SVR  -0.063096           11\n",
      "26             Bagging with SVR  -0.064503            9\n",
      "29            Bagging with SVR1  -0.064503            9\n",
      "12    Support Vector Regression  -0.124629            8\n",
      "13    Support Vector Regression  -0.127946            9\n",
      "14    Support Vector Regression  -0.130732           11\n",
      "39  Gaussian Process Regression  -0.150716          261\n",
      "40  Gaussian Process Regression  -0.154590          282\n",
      "41  Gaussian Process Regression  -0.171651          326\n"
     ]
    }
   ],
   "source": [
    "import pandas as pd\n",
    "import os\n",
    "\n",
    "# Set the variables for biomk1 and feature\n",
    "feature = 'MRI_Metrics'\n",
    "featureName = 'MRI_Metrics'\n",
    "# metric = 'tbri'  # Example value\n",
    "\n",
    "\n",
    "# Construct the file path using the variables\n",
    "file_path = f\"Z:\\\\Active-Diagnose_CTE\\\\Fargol_Analysis\\\\Feature_importance_for_neuropsych_from_{feature}\\\\performance_{featureName}_w_top_features_{metric}.xlsx\"\n",
    "\n",
    "\n",
    "# Load the Excel file\n",
    "excel_data = pd.ExcelFile(file_path)\n",
    "\n",
    "# Initialize a list to store results\n",
    "all_results = []\n",
    "\n",
    "# Iterate over all sheets in the Excel file\n",
    "for sheet_name in excel_data.sheet_names:\n",
    "    # Load the sheet as a DataFrame\n",
    "    sheet_df = excel_data.parse(sheet_name)\n",
    "    \n",
    "    # Check if the required columns exist in the sheet\n",
    "    if \"R^2 Score\" in sheet_df.columns and \"Top Features\" in sheet_df.columns:\n",
    "        # Sort the DataFrame by the \"R^2 Score\" column in descending order\n",
    "        top_rows = sheet_df.nlargest(3, \"R^2 Score\")  # Get the top 3 rows with the highest R^2 Score\n",
    "        \n",
    "        # Add the sheet name to each entry\n",
    "        for _, row in top_rows.iterrows():\n",
    "            all_results.append({\n",
    "                \"Sheet\": sheet_name,\n",
    "                \"R^2 Score\": row[\"R^2 Score\"],\n",
    "                \"Top Feature\": row[\"Top Features\"]\n",
    "            })\n",
    "    else:\n",
    "        print(f\"'R^2 Score' or 'Top Feature' column not found in sheet: {sheet_name}\")\n",
    "\n",
    "# Convert results to a DataFrame and sort by \"R^2 Score\" in descending order\n",
    "all_results_df = pd.DataFrame(all_results)\n",
    "all_results_df = all_results_df.sort_values(by=\"R^2 Score\", ascending=False)\n",
    "\n",
    "# Print the sorted results\n",
    "print(all_results_df)\n"
   ]
  },
  {
   "cell_type": "markdown",
   "id": "2745b261",
   "metadata": {},
   "source": [
    "# Now, Pick the required feature (bloodbiomk, csfbiomk, etc) and sheet (method) and get the features for the next step"
   ]
  },
  {
   "cell_type": "code",
   "execution_count": 5,
   "id": "7ef4f4c4",
   "metadata": {},
   "outputs": [
    {
     "data": {
      "text/plain": [
       "'baitot'"
      ]
     },
     "execution_count": 5,
     "metadata": {},
     "output_type": "execute_result"
    }
   ],
   "source": [
    "metric\n"
   ]
  },
  {
   "cell_type": "code",
   "execution_count": null,
   "id": "d9e611f3",
   "metadata": {},
   "outputs": [],
   "source": []
  }
 ],
 "metadata": {
  "kernelspec": {
   "display_name": "Python 3 (ipykernel)",
   "language": "python",
   "name": "python3"
  },
  "language_info": {
   "codemirror_mode": {
    "name": "ipython",
    "version": 3
   },
   "file_extension": ".py",
   "mimetype": "text/x-python",
   "name": "python",
   "nbconvert_exporter": "python",
   "pygments_lexer": "ipython3",
   "version": "3.10.9"
  }
 },
 "nbformat": 4,
 "nbformat_minor": 5
}
