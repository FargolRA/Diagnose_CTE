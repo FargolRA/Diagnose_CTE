{
 "cells": [
  {
   "cell_type": "code",
   "execution_count": 49,
   "id": "15c9f805",
   "metadata": {},
   "outputs": [
    {
     "name": "stdout",
     "output_type": "stream",
     "text": [
      "The highest max value found in column 6 (from row 3 onward) is 0.1946651867597194 in sheet: Random Forest\n"
     ]
    }
   ],
   "source": [
    "import pandas as pd\n",
    "import os\n",
    "\n",
    "# Set the variables for biomk1 and feature\n",
    "# metric = 'biomk1'  # Example value\n",
    "# metric = 'biomk2'  # Example value\n",
    "# metric = 'csfbiomk1'  # Example value\n",
    "# metric = 'csfbiomk2'  # Example value\n",
    "metric = 'csfbiomk3'  # Example value\n",
    "\n",
    "# metricName = 'bloodbiomk1'  # Example value\n",
    "# metricName = 'bloodbiomk2'  # Example value\n",
    "# metricName = 'csfbiomk1'  # Example value\n",
    "# metricName = 'csfbiomk2'  # Example value\n",
    "metricName = 'csfbiomk3'  # Example value\n",
    "\n",
    "feature = 'tgec'  # Example value\n",
    "\n",
    "# Construct the file path using the variables\n",
    "file_path = f\"Z:\\\\Active-Diagnose_CTE\\\\Fargol_Analysis\\\\Feature_importance_for_briefa_from_{metric}\\\\performance_{metricName}_w_top_features_{feature}.xlsx\"\n",
    "\n",
    "\n",
    "if not os.path.exists(file_path):\n",
    "    print(f\"File not found at {file_path}\")\n",
    "else:\n",
    "    max_value = None\n",
    "    max_sheet = None\n",
    "\n",
    "    # Load the Excel file with all sheets\n",
    "    with pd.ExcelFile(file_path) as xls:\n",
    "        for sheet_name in xls.sheet_names:\n",
    "            # Load the specific sheet\n",
    "            df = pd.read_excel(xls, sheet_name=sheet_name)\n",
    "\n",
    "            # Check if the sheet has enough columns and rows\n",
    "            if df.shape[1] >= 6 and df.shape[0] >= 3:\n",
    "                # Get the sixth column starting from row 3 (adjust index)\n",
    "                col_values = df.iloc[2:, 5]  # Zero-indexed: sixth column is 5\n",
    "\n",
    "                # Find the max value in this column\n",
    "                sheet_max = col_values.max()\n",
    "\n",
    "                # Update max_value and max_sheet if this sheet has a new max\n",
    "                if max_value is None or sheet_max > max_value:\n",
    "                    max_value = sheet_max\n",
    "                    max_sheet = sheet_name\n",
    "\n",
    "    if max_sheet:\n",
    "        print(f\"The highest max value found in column 6 (from row 3 onward) is {max_value} in sheet: {max_sheet}\")\n",
    "    else:\n",
    "        print(\"No valid data found in the specified column and row range.\")\n"
   ]
  },
  {
   "cell_type": "code",
   "execution_count": 55,
   "id": "68322163",
   "metadata": {},
   "outputs": [
    {
     "name": "stdout",
     "output_type": "stream",
     "text": [
      "The highest max value found in column 6 (from row 3 onward) is 0.216989435935605 in sheet: Multiple Linear Regression\n"
     ]
    }
   ],
   "source": [
    "import pandas as pd\n",
    "import os\n",
    "\n",
    "# Set the variables for biomk1 and feature\n",
    "metric = 'BloodCSF_biomk'  # Example value\n",
    "metricName = 'BloodCSF_biomk'\n",
    "\n",
    "feature = 'emotcont'  # Example value\n",
    "\n",
    "# Construct the file path using the variables\n",
    "file_path = f\"Z:\\\\Active-Diagnose_CTE\\\\Fargol_Analysis\\\\Feature_importance_for_briefa_from_{metric}\\\\performance_{metricName}_w_top_features_{feature}.xlsx\"\n",
    "\n",
    "\n",
    "if not os.path.exists(file_path):\n",
    "    print(f\"File not found at {file_path}\")\n",
    "else:\n",
    "    max_value = None\n",
    "    max_sheet = None\n",
    "\n",
    "    # Load the Excel file with all sheets\n",
    "    with pd.ExcelFile(file_path) as xls:\n",
    "        for sheet_name in xls.sheet_names:\n",
    "            # Load the specific sheet\n",
    "            df = pd.read_excel(xls, sheet_name=sheet_name)\n",
    "\n",
    "            # Check if the sheet has enough columns and rows\n",
    "            if df.shape[1] >= 6 and df.shape[0] >= 3:\n",
    "                # Get the sixth column starting from row 3 (adjust index)\n",
    "                col_values = df.iloc[2:, 5]  # Zero-indexed: sixth column is 5\n",
    "\n",
    "                # Find the max value in this column\n",
    "                sheet_max = col_values.max()\n",
    "\n",
    "                # Update max_value and max_sheet if this sheet has a new max\n",
    "                if max_value is None or sheet_max > max_value:\n",
    "                    max_value = sheet_max\n",
    "                    max_sheet = sheet_name\n",
    "\n",
    "    if max_sheet:\n",
    "        print(f\"The highest max value found in column 6 (from row 3 onward) is {max_value} in sheet: {max_sheet}\")\n",
    "    else:\n",
    "        print(\"No valid data found in the specified column and row range.\")\n"
   ]
  },
  {
   "cell_type": "code",
   "execution_count": 53,
   "id": "80978af0",
   "metadata": {},
   "outputs": [
    {
     "name": "stdout",
     "output_type": "stream",
     "text": [
      "File not found at Z:\\Active-Diagnose_CTE\\Fargol_Analysis\\Final_results\\briefa_from_all_biomarkers_afterFE_trial1_workmem.xlsx\n"
     ]
    }
   ],
   "source": [
    "import pandas as pd\n",
    "import os\n",
    "\n",
    "# Set the variables for biomk1 and feature\n",
    "feature = 'workmem'  # Example value\n",
    "\n",
    "# Construct the file path using the variables\n",
    "file_path = f\"Z:\\\\Active-Diagnose_CTE\\\\Fargol_Analysis\\\\Final_results\\\\briefa_from_all_biomarkers_afterFE_trial1_{feature}.xlsx\"\n",
    "\n",
    "# Check if the file exists\n",
    "if not os.path.exists(file_path):\n",
    "    print(f\"File not found at {file_path}\")\n",
    "else:\n",
    "    max_value = None\n",
    "    max_name = None\n",
    "\n",
    "    # Load the Excel file with all sheets\n",
    "    with pd.ExcelFile(file_path) as xls:\n",
    "        for sheet_name in xls.sheet_names:\n",
    "            # Load the specific sheet\n",
    "            df = pd.read_excel(xls, sheet_name=sheet_name)\n",
    "\n",
    "            # Check if the sheet has enough columns and rows\n",
    "            if df.shape[1] >= 5:\n",
    "                # Filter rows where the second column matches the feature\n",
    "                filtered_rows = df[df.iloc[:, 1] == feature]\n",
    "\n",
    "                if not filtered_rows.empty:\n",
    "                    # Find the max value in the fifth column among filtered rows\n",
    "                    row_max_value = filtered_rows.iloc[:, 4].max()\n",
    "\n",
    "                    # Extract the max value and corresponding name in the first column\n",
    "                    max_row = filtered_rows[filtered_rows.iloc[:, 4] == row_max_value]\n",
    "                    row_name = max_row.iloc[0, 0]\n",
    "\n",
    "                    # Update the overall max if this is the highest found\n",
    "                    if max_value is None or row_max_value > max_value:\n",
    "                        max_value = row_max_value\n",
    "                        max_name = row_name\n",
    "\n",
    "    # Print the result\n",
    "    if max_name:\n",
    "        print(f\"The maximum value found in column 5 for feature '{feature}' is {max_value}, corresponding to the name '{max_name}' in column 1.\")\n",
    "    else:\n",
    "        print(f\"No entries found for feature '{feature}' in the specified column.\")"
   ]
  },
  {
   "cell_type": "code",
   "execution_count": 42,
   "id": "bcb32334",
   "metadata": {},
   "outputs": [],
   "source": [
    "# filtered_rows\n",
    "# # max_row"
   ]
  },
  {
   "cell_type": "code",
   "execution_count": null,
   "id": "92d7fdc0",
   "metadata": {},
   "outputs": [],
   "source": []
  }
 ],
 "metadata": {
  "kernelspec": {
   "display_name": "Python 3 (ipykernel)",
   "language": "python",
   "name": "python3"
  },
  "language_info": {
   "codemirror_mode": {
    "name": "ipython",
    "version": 3
   },
   "file_extension": ".py",
   "mimetype": "text/x-python",
   "name": "python",
   "nbconvert_exporter": "python",
   "pygments_lexer": "ipython3",
   "version": "3.10.9"
  }
 },
 "nbformat": 4,
 "nbformat_minor": 5
}
