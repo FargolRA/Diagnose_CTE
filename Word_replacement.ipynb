{
 "cells": [
  {
   "cell_type": "code",
   "execution_count": 12,
   "id": "abc952e4",
   "metadata": {},
   "outputs": [],
   "source": [
    "with open('Z:\\\\Active-Diagnose_CTE\\\\Fargol_Analysis\\\\neuropsych_all_MRI_Metrics_allModels.ipynb', 'r') as file:\n",
    "    notebook_content = file.read()\n",
    "\n",
    "old_word = 'briefa'\n",
    "new_word = 'neuropsych'\n",
    "\n",
    "updated_content = notebook_content.replace(old_word, new_word)\n",
    "\n",
    "with open('neuropsych_all_MRI_Metrics_allModels.ipynb', 'w') as file:\n",
    "    file.write(updated_content)"
   ]
  },
  {
   "cell_type": "code",
   "execution_count": null,
   "id": "670a65cd",
   "metadata": {},
   "outputs": [],
   "source": []
  },
  {
   "cell_type": "code",
   "execution_count": null,
   "id": "fad5e9be",
   "metadata": {},
   "outputs": [],
   "source": []
  }
 ],
 "metadata": {
  "kernelspec": {
   "display_name": "Python 3 (ipykernel)",
   "language": "python",
   "name": "python3"
  },
  "language_info": {
   "codemirror_mode": {
    "name": "ipython",
    "version": 3
   },
   "file_extension": ".py",
   "mimetype": "text/x-python",
   "name": "python",
   "nbconvert_exporter": "python",
   "pygments_lexer": "ipython3",
   "version": "3.10.9"
  }
 },
 "nbformat": 4,
 "nbformat_minor": 5
}
